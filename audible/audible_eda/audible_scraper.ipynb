{
 "cells": [
  {
   "cell_type": "code",
   "execution_count": 1,
   "metadata": {},
   "outputs": [],
   "source": [
    "from requests_html import HTMLSession, HTML\n",
    "import numpy as np\n",
    "import pandas as pd\n",
    "from datetime import datetime\n",
    "from threading import Thread\n",
    "import time\n",
    "import matplotlib.pyplot as plt\n",
    "import progressbar\n",
    "import warnings\n",
    "warnings.filterwarnings(\"ignore\")"
   ]
  },
  {
   "cell_type": "code",
   "execution_count": 2,
   "metadata": {},
   "outputs": [],
   "source": [
    "base_url = 'https://www.audible.com/search?pf_rd_p=7fe4387b-4762-42a8-8d9a-a63254c74bb2&pf_rd_r=C7ENYKDADHMCH4KY12D4&ref=a_search_l1_feature_five_browse-bin_6&feature_six_browse-bin=9178177011&pageSize=50'"
   ]
  },
  {
   "cell_type": "code",
   "execution_count": 3,
   "metadata": {
    "scrolled": true
   },
   "outputs": [],
   "source": [
    "def build_dict(items, category, data):\n",
    "    for item in items:\n",
    "        text_fields = item.text.split('\\n')\n",
    "        print('text_fields.....', text_fields)\n",
    "        link = [link for link in item.absolute_links if '/pd/' in link][0]\n",
    "        dict_entry={\n",
    "            'category' : category,\n",
    "            'title' : text_fields[0],\n",
    "            'link' : link\n",
    "            }\n",
    "        try:\n",
    "            dict_entry['rating_count'] = np.int([s for s in text_fields if 'stars' in s][0].split(\n",
    "                'stars ')[1].replace(',',''))\n",
    "        except: pass\n",
    "        try:\n",
    "            dict_entry['narrator'] = [s for s in text_fields if 'Narrated by' in s][0].split(': ')[1]\n",
    "        except: pass\n",
    "        try:\n",
    "            dict_entry['asin'] = [s for s in link.split('/') if 'B0' in s][0].split('?')[0]\n",
    "        except: pass\n",
    "        try:\n",
    "            dict_entry['length'] = [s for s in text_fields if 'Length' in s][0].split(': ')[1]\n",
    "        except: pass\n",
    "        try:\n",
    "            dict_entry['rating'] = np.float([s for s in text_fields if 'stars' in s][-1].split(' out')[0])\n",
    "        except: pass\n",
    "        try:\n",
    "            dict_entry['author'] = [s for s in text_fields if 'By' in s][0].split(': ')[1]\n",
    "        except: pass\n",
    "        try:\n",
    "            dict_entry['price'] = np.float([s for s in text_fields if 'Regular' in s][0].split('$')[1])\n",
    "        except: pass\n",
    "        try:\n",
    "            dict_entry['release_date'] = datetime.strptime([s for s in text_fields if 'Release date:' in s][0].split(\n",
    "                ': ')[1], '%m-%d-%y')\n",
    "        except : pass\n",
    "        data.append(dict_entry)\n",
    "    return data\n",
    "\n",
    "def scrape_great_courses(mthreads, category, pages, url_list, data):\n",
    "    sess = HTMLSession()\n",
    "    \n",
    "    for url in url_list:\n",
    "        try:\n",
    "            r = sess.get(url)\n",
    "        except:\n",
    "            try:\n",
    "                time.sleep(0.5)\n",
    "                r = sess.get(url)\n",
    "            except:\n",
    "                pass\n",
    "            \n",
    "        items = r.html.find('li.bc-list-item.productListItem', first=False)\n",
    "        \n",
    "        threads = []\n",
    "        for j in range(mthreads):\n",
    "            item_sublist = items[j::mthreads]\n",
    "            t = Thread(target=build_dict, args=(item_sublist, category, data))\n",
    "            threads.append(t)\n",
    "            \n",
    "        [t.start() for t in threads]\n",
    "        [t.join() for t in threads]\n",
    "    \n",
    "    sess.close()\n",
    "    return data"
   ]
  },
  {
   "cell_type": "code",
   "execution_count": 4,
   "metadata": {},
   "outputs": [],
   "source": [
    "def scrape_threader(nthreads, mthreads, category, pages, base_url, data=None):\n",
    "    if data == None:\n",
    "        data = []\n",
    "    \n",
    "    # Create url list\n",
    "    url_list = []\n",
    "    for page in range(pages):\n",
    "        pageurl = base_url + '&page=' + str(page+1)\n",
    "        url_list.append(pageurl)\n",
    "        \n",
    "    # Create threads\n",
    "    threads = []\n",
    "    for i in range(nthreads):\n",
    "        url_sublist = url_list[i::nthreads]\n",
    "        t = Thread(target=scrape_great_courses, args=(mthreads, category, pages, url_sublist, data))\n",
    "        threads.append(t)\n",
    "    \n",
    "    # Run threads\n",
    "    [t.start() for t in threads]\n",
    "    [t.join() for t in threads]\n",
    "    \n",
    "    return data"
   ]
  },
  {
   "cell_type": "code",
   "execution_count": 5,
   "metadata": {
    "scrolled": true
   },
   "outputs": [],
   "source": [
    "def loop_categories(nthreads, mthreads, cat_names, cat_page_nums, cat_links):\n",
    "    data = []\n",
    "    \n",
    "#     widgets = [\n",
    "#         progressbar.Percentage(), \n",
    "#         progressbar.Bar(), \n",
    "#         progressbar.ETA(),\n",
    "#         progressbar.DynamicMessage('cat')]\n",
    "#     bar = progressbar.ProgressBar(widgets=widgets, max_value=sum(cat_page_nums)).start()\n",
    "    \n",
    "    finished_pages = 0  \n",
    "    for category, pages, link in zip(cat_names, cat_page_nums, cat_links):\n",
    "        print('Scraping ', category, '...')\n",
    "#         bar.update(finished_pages, cat=category)\n",
    "        data.extend(scrape_threader(nthreads, mthreads, category, pages, link, data=data))\n",
    "        finished_pages += pages\n",
    "        \n",
    "#     bar.finish()    \n",
    "    return data"
   ]
  },
  {
   "cell_type": "code",
   "execution_count": 15,
   "metadata": {},
   "outputs": [
    {
     "ename": "NameError",
     "evalue": "name 'item' is not defined",
     "output_type": "error",
     "traceback": [
      "\u001b[0;31m---------------------------------------------------------------------------\u001b[0m",
      "\u001b[0;31mNameError\u001b[0m                                 Traceback (most recent call last)",
      "\u001b[0;32m<ipython-input-15-2d50c3117fbd>\u001b[0m in \u001b[0;36m<module>\u001b[0;34m\u001b[0m\n\u001b[0;32m----> 1\u001b[0;31m \u001b[0mitem\u001b[0m\u001b[0;34m\u001b[0m\u001b[0m\n\u001b[0m",
      "\u001b[0;31mNameError\u001b[0m: name 'item' is not defined"
     ]
    }
   ],
   "source": [
    "item"
   ]
  },
  {
   "cell_type": "code",
   "execution_count": 23,
   "metadata": {},
   "outputs": [
    {
     "name": "stdout",
     "output_type": "stream",
     "text": [
      "Contact U\n",
      "Hel\n",
      "How to Liste\n",
      "Listening App\n",
      "Mobile Sit\n",
      "Audible Sun\n"
     ]
    }
   ],
   "source": [
    "its = r.html.find('div.bc-col-responsive.bc-col-3')[1].find('ul.bc-list')[0].find('li.bc-list-item')\n",
    "for i in its:\n",
    "    print(i.text.split('(')[0][:-1])"
   ]
  },
  {
   "cell_type": "code",
   "execution_count": 16,
   "metadata": {},
   "outputs": [
    {
     "name": "stdout",
     "output_type": "stream",
     "text": [
      "cat_names ['Contact Us', 'Help', 'How to Listen', 'Listening Apps', 'Mobile Site', 'Audible Suno']\n",
      "cat_items [<Element 'li' class=('bc-list-item', 'ui-it-footer-column-row', 'bc-spacing-mini')>, <Element 'li' class=('bc-list-item', 'ui-it-footer-column-row', 'bc-spacing-mini')>, <Element 'li' class=('bc-list-item', 'ui-it-footer-column-row', 'bc-spacing-mini')>, <Element 'li' class=('bc-list-item', 'ui-it-footer-column-row', 'bc-spacing-mini')>, <Element 'li' class=('bc-list-item', 'ui-it-footer-column-row', 'bc-spacing-mini')>, <Element 'li' class=('bc-list-item', 'ui-it-footer-column-row', 'bc-spacing-mini')>]\n"
     ]
    },
    {
     "ename": "IndexError",
     "evalue": "list index out of range",
     "output_type": "error",
     "traceback": [
      "\u001b[0;31m---------------------------------------------------------------------------\u001b[0m",
      "\u001b[0;31mIndexError\u001b[0m                                Traceback (most recent call last)",
      "\u001b[0;32m<ipython-input-16-c3cc325c37ae>\u001b[0m in \u001b[0;36m<module>\u001b[0;34m\u001b[0m\n\u001b[1;32m      6\u001b[0m \u001b[0mprint\u001b[0m\u001b[0;34m(\u001b[0m\u001b[0;34m'cat_names'\u001b[0m\u001b[0;34m,\u001b[0m \u001b[0mcat_names\u001b[0m\u001b[0;34m)\u001b[0m\u001b[0;34m\u001b[0m\u001b[0m\n\u001b[1;32m      7\u001b[0m \u001b[0mprint\u001b[0m\u001b[0;34m(\u001b[0m\u001b[0;34m'cat_items'\u001b[0m\u001b[0;34m,\u001b[0m \u001b[0mcat_items\u001b[0m\u001b[0;34m)\u001b[0m\u001b[0;34m\u001b[0m\u001b[0m\n\u001b[0;32m----> 8\u001b[0;31m \u001b[0mcat_item_nums\u001b[0m \u001b[0;34m=\u001b[0m \u001b[0;34m[\u001b[0m\u001b[0mnp\u001b[0m\u001b[0;34m.\u001b[0m\u001b[0mint\u001b[0m\u001b[0;34m(\u001b[0m\u001b[0mitem\u001b[0m\u001b[0;34m.\u001b[0m\u001b[0mtext\u001b[0m\u001b[0;34m.\u001b[0m\u001b[0msplit\u001b[0m\u001b[0;34m(\u001b[0m\u001b[0;34m' ('\u001b[0m\u001b[0;34m)\u001b[0m\u001b[0;34m[\u001b[0m\u001b[0;36m1\u001b[0m\u001b[0;34m]\u001b[0m\u001b[0;34m[\u001b[0m\u001b[0;34m:\u001b[0m\u001b[0;34m-\u001b[0m\u001b[0;36m1\u001b[0m\u001b[0;34m]\u001b[0m\u001b[0;34m.\u001b[0m\u001b[0mreplace\u001b[0m\u001b[0;34m(\u001b[0m\u001b[0;34m','\u001b[0m\u001b[0;34m,\u001b[0m \u001b[0;34m''\u001b[0m\u001b[0;34m)\u001b[0m\u001b[0;34m)\u001b[0m \u001b[0;32mfor\u001b[0m \u001b[0mitem\u001b[0m \u001b[0;32min\u001b[0m \u001b[0mcat_items\u001b[0m\u001b[0;34m]\u001b[0m\u001b[0;34m\u001b[0m\u001b[0m\n\u001b[0m\u001b[1;32m      9\u001b[0m \u001b[0mcat_page_nums\u001b[0m \u001b[0;34m=\u001b[0m \u001b[0;34m[\u001b[0m\u001b[0mnp\u001b[0m\u001b[0;34m.\u001b[0m\u001b[0mint\u001b[0m\u001b[0;34m(\u001b[0m\u001b[0mnp\u001b[0m\u001b[0;34m.\u001b[0m\u001b[0mceil\u001b[0m\u001b[0;34m(\u001b[0m\u001b[0mitem\u001b[0m\u001b[0;34m/\u001b[0m\u001b[0;36m50\u001b[0m\u001b[0;34m)\u001b[0m\u001b[0;34m)\u001b[0m \u001b[0;32mfor\u001b[0m \u001b[0mitem\u001b[0m \u001b[0;32min\u001b[0m \u001b[0mcat_item_nums\u001b[0m\u001b[0;34m]\u001b[0m\u001b[0;34m\u001b[0m\u001b[0m\n\u001b[1;32m     10\u001b[0m \u001b[0mcat_links\u001b[0m \u001b[0;34m=\u001b[0m \u001b[0;34m[\u001b[0m\u001b[0mitem\u001b[0m\u001b[0;34m.\u001b[0m\u001b[0mabsolute_links\u001b[0m\u001b[0;34m.\u001b[0m\u001b[0mpop\u001b[0m\u001b[0;34m(\u001b[0m\u001b[0;34m)\u001b[0m \u001b[0;34m+\u001b[0m \u001b[0;34m'&pageSize=50'\u001b[0m \u001b[0;32mfor\u001b[0m \u001b[0mitem\u001b[0m \u001b[0;32min\u001b[0m \u001b[0mcat_items\u001b[0m\u001b[0;34m]\u001b[0m\u001b[0;34m\u001b[0m\u001b[0m\n",
      "\u001b[0;32m<ipython-input-16-c3cc325c37ae>\u001b[0m in \u001b[0;36m<listcomp>\u001b[0;34m(.0)\u001b[0m\n\u001b[1;32m      6\u001b[0m \u001b[0mprint\u001b[0m\u001b[0;34m(\u001b[0m\u001b[0;34m'cat_names'\u001b[0m\u001b[0;34m,\u001b[0m \u001b[0mcat_names\u001b[0m\u001b[0;34m)\u001b[0m\u001b[0;34m\u001b[0m\u001b[0m\n\u001b[1;32m      7\u001b[0m \u001b[0mprint\u001b[0m\u001b[0;34m(\u001b[0m\u001b[0;34m'cat_items'\u001b[0m\u001b[0;34m,\u001b[0m \u001b[0mcat_items\u001b[0m\u001b[0;34m)\u001b[0m\u001b[0;34m\u001b[0m\u001b[0m\n\u001b[0;32m----> 8\u001b[0;31m \u001b[0mcat_item_nums\u001b[0m \u001b[0;34m=\u001b[0m \u001b[0;34m[\u001b[0m\u001b[0mnp\u001b[0m\u001b[0;34m.\u001b[0m\u001b[0mint\u001b[0m\u001b[0;34m(\u001b[0m\u001b[0mitem\u001b[0m\u001b[0;34m.\u001b[0m\u001b[0mtext\u001b[0m\u001b[0;34m.\u001b[0m\u001b[0msplit\u001b[0m\u001b[0;34m(\u001b[0m\u001b[0;34m' ('\u001b[0m\u001b[0;34m)\u001b[0m\u001b[0;34m[\u001b[0m\u001b[0;36m1\u001b[0m\u001b[0;34m]\u001b[0m\u001b[0;34m[\u001b[0m\u001b[0;34m:\u001b[0m\u001b[0;34m-\u001b[0m\u001b[0;36m1\u001b[0m\u001b[0;34m]\u001b[0m\u001b[0;34m.\u001b[0m\u001b[0mreplace\u001b[0m\u001b[0;34m(\u001b[0m\u001b[0;34m','\u001b[0m\u001b[0;34m,\u001b[0m \u001b[0;34m''\u001b[0m\u001b[0;34m)\u001b[0m\u001b[0;34m)\u001b[0m \u001b[0;32mfor\u001b[0m \u001b[0mitem\u001b[0m \u001b[0;32min\u001b[0m \u001b[0mcat_items\u001b[0m\u001b[0;34m]\u001b[0m\u001b[0;34m\u001b[0m\u001b[0m\n\u001b[0m\u001b[1;32m      9\u001b[0m \u001b[0mcat_page_nums\u001b[0m \u001b[0;34m=\u001b[0m \u001b[0;34m[\u001b[0m\u001b[0mnp\u001b[0m\u001b[0;34m.\u001b[0m\u001b[0mint\u001b[0m\u001b[0;34m(\u001b[0m\u001b[0mnp\u001b[0m\u001b[0;34m.\u001b[0m\u001b[0mceil\u001b[0m\u001b[0;34m(\u001b[0m\u001b[0mitem\u001b[0m\u001b[0;34m/\u001b[0m\u001b[0;36m50\u001b[0m\u001b[0;34m)\u001b[0m\u001b[0;34m)\u001b[0m \u001b[0;32mfor\u001b[0m \u001b[0mitem\u001b[0m \u001b[0;32min\u001b[0m \u001b[0mcat_item_nums\u001b[0m\u001b[0;34m]\u001b[0m\u001b[0;34m\u001b[0m\u001b[0m\n\u001b[1;32m     10\u001b[0m \u001b[0mcat_links\u001b[0m \u001b[0;34m=\u001b[0m \u001b[0;34m[\u001b[0m\u001b[0mitem\u001b[0m\u001b[0;34m.\u001b[0m\u001b[0mabsolute_links\u001b[0m\u001b[0;34m.\u001b[0m\u001b[0mpop\u001b[0m\u001b[0;34m(\u001b[0m\u001b[0;34m)\u001b[0m \u001b[0;34m+\u001b[0m \u001b[0;34m'&pageSize=50'\u001b[0m \u001b[0;32mfor\u001b[0m \u001b[0mitem\u001b[0m \u001b[0;32min\u001b[0m \u001b[0mcat_items\u001b[0m\u001b[0;34m]\u001b[0m\u001b[0;34m\u001b[0m\u001b[0m\n",
      "\u001b[0;31mIndexError\u001b[0m: list index out of range"
     ]
    }
   ],
   "source": [
    "sess = HTMLSession()\n",
    "r = sess.get(base_url)\n",
    "\n",
    "cat_items = r.html.find('div.bc-col-responsive.bc-col-3')[1].find('ul.bc-list')[0].find('li.bc-list-item')\n",
    "cat_names = [item.text.split(' (')[0] for item in cat_items]\n",
    "print('cat_names', cat_names)\n",
    "print('cat_items', cat_items)\n",
    "cat_item_nums = [np.int(item.text.split(' (')[1][:-1].replace(',', '')) for item in cat_items]\n",
    "cat_page_nums = [np.int(np.ceil(item/50)) for item in cat_item_nums]\n",
    "cat_links = [item.absolute_links.pop() + '&pageSize=50' for item in cat_items]\n",
    "print(cat_items)\n",
    "sess.close()"
   ]
  },
  {
   "cell_type": "code",
   "execution_count": null,
   "metadata": {
    "scrolled": true
   },
   "outputs": [],
   "source": [
    "for i in range(3, len(cat_names)):\n",
    "    start=time.time()\n",
    "    df = pd.DataFrame(data=loop_categories(\n",
    "        8, 2, [cat_names[i]], [cat_page_nums[i]], [cat_links[i]]))\n",
    "    df = df.drop_duplicates()\n",
    "#     df.to_csv('{}.csv'.format(i))\n",
    "    end = time.time()\n",
    "#     rate = cat_page_nums[i]/(end-start)\n",
    "#     pages_left = np.sum(cat_page_nums[i+1:])\n",
    "#     eta = pages_left/rate/60\n",
    "#     print('Done. Scraped {} out of {} items at {:.1f} pages/s. ETA: {:.1f} min.'.format(\n",
    "#         len(df), cat_item_nums[i], rate, eta))"
   ]
  },
  {
   "cell_type": "code",
   "execution_count": 13,
   "metadata": {},
   "outputs": [],
   "source": [
    "df = pd.read_csv('0.csv')\n",
    "for i in range(1, len(cat_names)):\n",
    "    df = pd.concat([df, pd.read_csv('{}.csv'.format(i))], ignore_index=True)"
   ]
  },
  {
   "cell_type": "code",
   "execution_count": 16,
   "metadata": {},
   "outputs": [],
   "source": [
    "df = df.drop_duplicates()\n",
    "df = df.drop('Unnamed: 0', axis=1)"
   ]
  },
  {
   "cell_type": "code",
   "execution_count": 19,
   "metadata": {},
   "outputs": [],
   "source": [
    "df.to_csv('all_english_audible.csv', index=False)"
   ]
  },
  {
   "cell_type": "code",
   "execution_count": null,
   "metadata": {},
   "outputs": [],
   "source": []
  }
 ],
 "metadata": {
  "kernelspec": {
   "display_name": "Python 3",
   "language": "python",
   "name": "python3"
  },
  "language_info": {
   "codemirror_mode": {
    "name": "ipython",
    "version": 3
   },
   "file_extension": ".py",
   "mimetype": "text/x-python",
   "name": "python",
   "nbconvert_exporter": "python",
   "pygments_lexer": "ipython3",
   "version": "3.7.0"
  }
 },
 "nbformat": 4,
 "nbformat_minor": 2
}
